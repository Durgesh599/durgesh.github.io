{
 "cells": [
  {
   "cell_type": "markdown",
   "id": "7f71415c",
   "metadata": {},
   "source": [
    "Importing Libraries"
   ]
  },
  {
   "cell_type": "code",
   "execution_count": 1,
   "id": "fab905f7",
   "metadata": {},
   "outputs": [],
   "source": [
    "import pandas as pd\n",
    "import numpy as np"
   ]
  },
  {
   "cell_type": "code",
   "execution_count": 2,
   "id": "6869d90a",
   "metadata": {},
   "outputs": [
    {
     "name": "stdout",
     "output_type": "stream",
     "text": [
      "File Loaded Successfully...\n"
     ]
    }
   ],
   "source": [
    "#importing data\n",
    "try:\n",
    "    df = pd.read_csv(r\"C:\\Users\\lenovo\\OneDrive\\Documents\\Project\\Spotify\\spotify_history.csv\")\n",
    "    print('File Loaded Successfully...')\n",
    "except FileNotFoundError:\n",
    "    print(\"Check the file path\")"
   ]
  },
  {
   "cell_type": "code",
   "execution_count": 3,
   "id": "afb31d7b",
   "metadata": {},
   "outputs": [
    {
     "data": {
      "text/html": [
       "<div>\n",
       "<style scoped>\n",
       "    .dataframe tbody tr th:only-of-type {\n",
       "        vertical-align: middle;\n",
       "    }\n",
       "\n",
       "    .dataframe tbody tr th {\n",
       "        vertical-align: top;\n",
       "    }\n",
       "\n",
       "    .dataframe thead th {\n",
       "        text-align: right;\n",
       "    }\n",
       "</style>\n",
       "<table border=\"1\" class=\"dataframe\">\n",
       "  <thead>\n",
       "    <tr style=\"text-align: right;\">\n",
       "      <th></th>\n",
       "      <th>spotify_track_uri</th>\n",
       "      <th>ts</th>\n",
       "      <th>platform</th>\n",
       "      <th>ms_played</th>\n",
       "      <th>track_name</th>\n",
       "      <th>artist_name</th>\n",
       "      <th>album_name</th>\n",
       "      <th>reason_start</th>\n",
       "      <th>reason_end</th>\n",
       "      <th>shuffle</th>\n",
       "      <th>skipped</th>\n",
       "    </tr>\n",
       "  </thead>\n",
       "  <tbody>\n",
       "    <tr>\n",
       "      <th>0</th>\n",
       "      <td>2J3n32GeLmMjwuAzyhcSNe</td>\n",
       "      <td>2013-07-08 02:44:34</td>\n",
       "      <td>web player</td>\n",
       "      <td>3185</td>\n",
       "      <td>Say It, Just Say It</td>\n",
       "      <td>The Mowgli's</td>\n",
       "      <td>Waiting For The Dawn</td>\n",
       "      <td>autoplay</td>\n",
       "      <td>clickrow</td>\n",
       "      <td>False</td>\n",
       "      <td>False</td>\n",
       "    </tr>\n",
       "    <tr>\n",
       "      <th>1</th>\n",
       "      <td>1oHxIPqJyvAYHy0PVrDU98</td>\n",
       "      <td>2013-07-08 02:45:37</td>\n",
       "      <td>web player</td>\n",
       "      <td>61865</td>\n",
       "      <td>Drinking from the Bottle (feat. Tinie Tempah)</td>\n",
       "      <td>Calvin Harris</td>\n",
       "      <td>18 Months</td>\n",
       "      <td>clickrow</td>\n",
       "      <td>clickrow</td>\n",
       "      <td>False</td>\n",
       "      <td>False</td>\n",
       "    </tr>\n",
       "    <tr>\n",
       "      <th>2</th>\n",
       "      <td>487OPlneJNni3NWC8SYqhW</td>\n",
       "      <td>2013-07-08 02:50:24</td>\n",
       "      <td>web player</td>\n",
       "      <td>285386</td>\n",
       "      <td>Born To Die</td>\n",
       "      <td>Lana Del Rey</td>\n",
       "      <td>Born To Die - The Paradise Edition</td>\n",
       "      <td>clickrow</td>\n",
       "      <td>unknown</td>\n",
       "      <td>False</td>\n",
       "      <td>False</td>\n",
       "    </tr>\n",
       "    <tr>\n",
       "      <th>3</th>\n",
       "      <td>5IyblF777jLZj1vGHG2UD3</td>\n",
       "      <td>2013-07-08 02:52:40</td>\n",
       "      <td>web player</td>\n",
       "      <td>134022</td>\n",
       "      <td>Off To The Races</td>\n",
       "      <td>Lana Del Rey</td>\n",
       "      <td>Born To Die - The Paradise Edition</td>\n",
       "      <td>trackdone</td>\n",
       "      <td>clickrow</td>\n",
       "      <td>False</td>\n",
       "      <td>False</td>\n",
       "    </tr>\n",
       "    <tr>\n",
       "      <th>4</th>\n",
       "      <td>0GgAAB0ZMllFhbNc3mAodO</td>\n",
       "      <td>2013-07-08 03:17:52</td>\n",
       "      <td>web player</td>\n",
       "      <td>0</td>\n",
       "      <td>Half Mast</td>\n",
       "      <td>Empire Of The Sun</td>\n",
       "      <td>Walking On A Dream</td>\n",
       "      <td>clickrow</td>\n",
       "      <td>nextbtn</td>\n",
       "      <td>False</td>\n",
       "      <td>False</td>\n",
       "    </tr>\n",
       "  </tbody>\n",
       "</table>\n",
       "</div>"
      ],
      "text/plain": [
       "        spotify_track_uri                   ts    platform  ms_played  \\\n",
       "0  2J3n32GeLmMjwuAzyhcSNe  2013-07-08 02:44:34  web player       3185   \n",
       "1  1oHxIPqJyvAYHy0PVrDU98  2013-07-08 02:45:37  web player      61865   \n",
       "2  487OPlneJNni3NWC8SYqhW  2013-07-08 02:50:24  web player     285386   \n",
       "3  5IyblF777jLZj1vGHG2UD3  2013-07-08 02:52:40  web player     134022   \n",
       "4  0GgAAB0ZMllFhbNc3mAodO  2013-07-08 03:17:52  web player          0   \n",
       "\n",
       "                                      track_name        artist_name  \\\n",
       "0                            Say It, Just Say It       The Mowgli's   \n",
       "1  Drinking from the Bottle (feat. Tinie Tempah)      Calvin Harris   \n",
       "2                                    Born To Die       Lana Del Rey   \n",
       "3                               Off To The Races       Lana Del Rey   \n",
       "4                                      Half Mast  Empire Of The Sun   \n",
       "\n",
       "                           album_name reason_start reason_end  shuffle  \\\n",
       "0                Waiting For The Dawn     autoplay   clickrow    False   \n",
       "1                           18 Months     clickrow   clickrow    False   \n",
       "2  Born To Die - The Paradise Edition     clickrow    unknown    False   \n",
       "3  Born To Die - The Paradise Edition    trackdone   clickrow    False   \n",
       "4                  Walking On A Dream     clickrow    nextbtn    False   \n",
       "\n",
       "   skipped  \n",
       "0    False  \n",
       "1    False  \n",
       "2    False  \n",
       "3    False  \n",
       "4    False  "
      ]
     },
     "execution_count": 3,
     "metadata": {},
     "output_type": "execute_result"
    }
   ],
   "source": [
    "#Top 5 rows\n",
    "df.head(5)"
   ]
  },
  {
   "cell_type": "code",
   "execution_count": 4,
   "id": "684cd520",
   "metadata": {},
   "outputs": [],
   "source": [
    "df_copy =  df"
   ]
  },
  {
   "cell_type": "code",
   "execution_count": 5,
   "id": "bf120cad",
   "metadata": {},
   "outputs": [],
   "source": [
    "# Spotify Dataset Column Meaning\n",
    "\n",
    "# 1. spotify_track_uri → Unique ID of the track in Spotify system\n",
    "# 2. ts               → Timestamp (date and time) when the song was played\n",
    "# 3. platform         → Device or app used (e.g. web player, android, ios, desktop)\n",
    "# 4. ms_played        → How long the track was played (in milliseconds)\n",
    "# 5. track_name       → Name of the song\n",
    "# 6. artist_name      → Name of the artist\n",
    "# 7. album_name       → Album from which the song belongs\n",
    "# 8. reason_start     → How the playback started (e.g. autoplay, clickrow, fwdbtn, trackdone)\n",
    "# 9. reason_end       → How the playback ended (e.g. clickrow, nextbtn, endplay, unknown)\n",
    "# 10. shuffle         → Whether shuffle mode was ON (True/False)\n",
    "# 11. skipped         → Whether the song was skipped (True/False)"
   ]
  },
  {
   "cell_type": "code",
   "execution_count": 6,
   "id": "7e3a24a7",
   "metadata": {},
   "outputs": [
    {
     "data": {
      "text/plain": [
       "Index(['spotify_track_uri', 'ts', 'platform', 'ms_played', 'track_name',\n",
       "       'artist_name', 'album_name', 'reason_start', 'reason_end', 'shuffle',\n",
       "       'skipped'],\n",
       "      dtype='object')"
      ]
     },
     "execution_count": 6,
     "metadata": {},
     "output_type": "execute_result"
    }
   ],
   "source": [
    "df_copy.columns"
   ]
  },
  {
   "cell_type": "code",
   "execution_count": 7,
   "id": "2409dc8d",
   "metadata": {},
   "outputs": [
    {
     "data": {
      "text/plain": [
       "(149860, 11)"
      ]
     },
     "execution_count": 7,
     "metadata": {},
     "output_type": "execute_result"
    }
   ],
   "source": [
    "df_copy.shape"
   ]
  },
  {
   "cell_type": "code",
   "execution_count": 8,
   "id": "ae7a29b0",
   "metadata": {},
   "outputs": [
    {
     "data": {
      "text/plain": [
       "spotify_track_uri      0\n",
       "ts                     0\n",
       "platform               0\n",
       "ms_played              0\n",
       "track_name             0\n",
       "artist_name            0\n",
       "album_name             0\n",
       "reason_start         143\n",
       "reason_end           117\n",
       "shuffle                0\n",
       "skipped                0\n",
       "dtype: int64"
      ]
     },
     "execution_count": 8,
     "metadata": {},
     "output_type": "execute_result"
    }
   ],
   "source": [
    "#checking the null values\n",
    "df_copy.isnull().sum()"
   ]
  },
  {
   "cell_type": "code",
   "execution_count": 9,
   "id": "22ae9225",
   "metadata": {},
   "outputs": [],
   "source": [
    "# removing the null values\n",
    "df_copy.dropna(inplace=True)"
   ]
  },
  {
   "cell_type": "code",
   "execution_count": 10,
   "id": "dbeb4ee2",
   "metadata": {},
   "outputs": [
    {
     "data": {
      "text/plain": [
       "spotify_track_uri    0\n",
       "ts                   0\n",
       "platform             0\n",
       "ms_played            0\n",
       "track_name           0\n",
       "artist_name          0\n",
       "album_name           0\n",
       "reason_start         0\n",
       "reason_end           0\n",
       "shuffle              0\n",
       "skipped              0\n",
       "dtype: int64"
      ]
     },
     "execution_count": 10,
     "metadata": {},
     "output_type": "execute_result"
    }
   ],
   "source": [
    "#checking the data\n",
    "df_copy.isnull().sum()"
   ]
  },
  {
   "cell_type": "code",
   "execution_count": 11,
   "id": "c767cb5d",
   "metadata": {},
   "outputs": [
    {
     "data": {
      "text/html": [
       "<div>\n",
       "<style scoped>\n",
       "    .dataframe tbody tr th:only-of-type {\n",
       "        vertical-align: middle;\n",
       "    }\n",
       "\n",
       "    .dataframe tbody tr th {\n",
       "        vertical-align: top;\n",
       "    }\n",
       "\n",
       "    .dataframe thead th {\n",
       "        text-align: right;\n",
       "    }\n",
       "</style>\n",
       "<table border=\"1\" class=\"dataframe\">\n",
       "  <thead>\n",
       "    <tr style=\"text-align: right;\">\n",
       "      <th></th>\n",
       "      <th>spotify_track_uri</th>\n",
       "      <th>ts</th>\n",
       "      <th>platform</th>\n",
       "      <th>ms_played</th>\n",
       "      <th>track_name</th>\n",
       "      <th>artist_name</th>\n",
       "      <th>album_name</th>\n",
       "      <th>reason_start</th>\n",
       "      <th>reason_end</th>\n",
       "      <th>shuffle</th>\n",
       "      <th>skipped</th>\n",
       "    </tr>\n",
       "  </thead>\n",
       "  <tbody>\n",
       "    <tr>\n",
       "      <th>0</th>\n",
       "      <td>2J3n32GeLmMjwuAzyhcSNe</td>\n",
       "      <td>2013-07-08 02:44:34</td>\n",
       "      <td>web player</td>\n",
       "      <td>3185</td>\n",
       "      <td>Say It, Just Say It</td>\n",
       "      <td>The Mowgli's</td>\n",
       "      <td>Waiting For The Dawn</td>\n",
       "      <td>autoplay</td>\n",
       "      <td>clickrow</td>\n",
       "      <td>False</td>\n",
       "      <td>False</td>\n",
       "    </tr>\n",
       "  </tbody>\n",
       "</table>\n",
       "</div>"
      ],
      "text/plain": [
       "        spotify_track_uri                   ts    platform  ms_played  \\\n",
       "0  2J3n32GeLmMjwuAzyhcSNe  2013-07-08 02:44:34  web player       3185   \n",
       "\n",
       "            track_name   artist_name            album_name reason_start  \\\n",
       "0  Say It, Just Say It  The Mowgli's  Waiting For The Dawn     autoplay   \n",
       "\n",
       "  reason_end  shuffle  skipped  \n",
       "0   clickrow    False    False  "
      ]
     },
     "execution_count": 11,
     "metadata": {},
     "output_type": "execute_result"
    }
   ],
   "source": [
    "df_copy.head(1)"
   ]
  },
  {
   "cell_type": "code",
   "execution_count": 12,
   "id": "4130c9c7",
   "metadata": {},
   "outputs": [
    {
     "name": "stdout",
     "output_type": "stream",
     "text": [
      "<class 'pandas.core.frame.DataFrame'>\n",
      "Index: 149648 entries, 0 to 149859\n",
      "Data columns (total 11 columns):\n",
      " #   Column             Non-Null Count   Dtype \n",
      "---  ------             --------------   ----- \n",
      " 0   spotify_track_uri  149648 non-null  object\n",
      " 1   ts                 149648 non-null  object\n",
      " 2   platform           149648 non-null  object\n",
      " 3   ms_played          149648 non-null  int64 \n",
      " 4   track_name         149648 non-null  object\n",
      " 5   artist_name        149648 non-null  object\n",
      " 6   album_name         149648 non-null  object\n",
      " 7   reason_start       149648 non-null  object\n",
      " 8   reason_end         149648 non-null  object\n",
      " 9   shuffle            149648 non-null  bool  \n",
      " 10  skipped            149648 non-null  bool  \n",
      "dtypes: bool(2), int64(1), object(8)\n",
      "memory usage: 11.7+ MB\n"
     ]
    }
   ],
   "source": [
    "#checking the data types\n",
    "df_copy.info()"
   ]
  },
  {
   "cell_type": "code",
   "execution_count": 13,
   "id": "7e441142",
   "metadata": {},
   "outputs": [],
   "source": [
    "#converting ts data type into date formate\n",
    "df_copy['ts'] = pd.to_datetime(df_copy['ts'], errors='coerce')"
   ]
  },
  {
   "cell_type": "code",
   "execution_count": 14,
   "id": "0ca7aa05",
   "metadata": {},
   "outputs": [
    {
     "data": {
      "text/html": [
       "<div>\n",
       "<style scoped>\n",
       "    .dataframe tbody tr th:only-of-type {\n",
       "        vertical-align: middle;\n",
       "    }\n",
       "\n",
       "    .dataframe tbody tr th {\n",
       "        vertical-align: top;\n",
       "    }\n",
       "\n",
       "    .dataframe thead th {\n",
       "        text-align: right;\n",
       "    }\n",
       "</style>\n",
       "<table border=\"1\" class=\"dataframe\">\n",
       "  <thead>\n",
       "    <tr style=\"text-align: right;\">\n",
       "      <th></th>\n",
       "      <th>spotify_track_uri</th>\n",
       "      <th>ts</th>\n",
       "      <th>platform</th>\n",
       "      <th>ms_played</th>\n",
       "      <th>track_name</th>\n",
       "      <th>artist_name</th>\n",
       "      <th>album_name</th>\n",
       "      <th>reason_start</th>\n",
       "      <th>reason_end</th>\n",
       "      <th>shuffle</th>\n",
       "      <th>skipped</th>\n",
       "    </tr>\n",
       "  </thead>\n",
       "  <tbody>\n",
       "    <tr>\n",
       "      <th>0</th>\n",
       "      <td>2J3n32GeLmMjwuAzyhcSNe</td>\n",
       "      <td>2013-07-08 02:44:34</td>\n",
       "      <td>web player</td>\n",
       "      <td>3185</td>\n",
       "      <td>Say It, Just Say It</td>\n",
       "      <td>The Mowgli's</td>\n",
       "      <td>Waiting For The Dawn</td>\n",
       "      <td>autoplay</td>\n",
       "      <td>clickrow</td>\n",
       "      <td>False</td>\n",
       "      <td>False</td>\n",
       "    </tr>\n",
       "  </tbody>\n",
       "</table>\n",
       "</div>"
      ],
      "text/plain": [
       "        spotify_track_uri                  ts    platform  ms_played  \\\n",
       "0  2J3n32GeLmMjwuAzyhcSNe 2013-07-08 02:44:34  web player       3185   \n",
       "\n",
       "            track_name   artist_name            album_name reason_start  \\\n",
       "0  Say It, Just Say It  The Mowgli's  Waiting For The Dawn     autoplay   \n",
       "\n",
       "  reason_end  shuffle  skipped  \n",
       "0   clickrow    False    False  "
      ]
     },
     "execution_count": 14,
     "metadata": {},
     "output_type": "execute_result"
    }
   ],
   "source": [
    "df_copy.head(1)"
   ]
  },
  {
   "cell_type": "code",
   "execution_count": 15,
   "id": "ccbcd699",
   "metadata": {},
   "outputs": [],
   "source": [
    "# creating new columns\n",
    "df_copy['played_second'] = df_copy['ms_played']/1000\n",
    "df_copy['played_minutes'] = df_copy['ms_played']/60"
   ]
  },
  {
   "cell_type": "code",
   "execution_count": 16,
   "id": "4ea5cdef",
   "metadata": {},
   "outputs": [
    {
     "data": {
      "text/plain": [
       "np.int64(1185)"
      ]
     },
     "execution_count": 16,
     "metadata": {},
     "output_type": "execute_result"
    }
   ],
   "source": [
    "df_copy.duplicated().sum()"
   ]
  },
  {
   "cell_type": "code",
   "execution_count": 17,
   "id": "34fe9627",
   "metadata": {},
   "outputs": [],
   "source": [
    "#removing the duplicates\n",
    "df_copy.drop_duplicates(inplace=True) "
   ]
  },
  {
   "cell_type": "code",
   "execution_count": 18,
   "id": "cd7f759e",
   "metadata": {},
   "outputs": [
    {
     "data": {
      "text/plain": [
       "np.int64(0)"
      ]
     },
     "execution_count": 18,
     "metadata": {},
     "output_type": "execute_result"
    }
   ],
   "source": [
    "df_copy.duplicated().sum()"
   ]
  },
  {
   "cell_type": "code",
   "execution_count": 19,
   "id": "faa98856",
   "metadata": {},
   "outputs": [],
   "source": [
    "# 6) Normalize text columns for grouping/search\n",
    "text_cols = ['track_name', 'artist_name', 'album_name', 'reason_start', 'reason_end']\n",
    "for c in text_cols:\n",
    "    df_copy[c + '_'] = df_copy[c].astype(str).str.strip().str.lower().replace({'nan': None})"
   ]
  },
  {
   "cell_type": "code",
   "execution_count": 20,
   "id": "1270ef8a",
   "metadata": {},
   "outputs": [
    {
     "data": {
      "text/html": [
       "<div>\n",
       "<style scoped>\n",
       "    .dataframe tbody tr th:only-of-type {\n",
       "        vertical-align: middle;\n",
       "    }\n",
       "\n",
       "    .dataframe tbody tr th {\n",
       "        vertical-align: top;\n",
       "    }\n",
       "\n",
       "    .dataframe thead th {\n",
       "        text-align: right;\n",
       "    }\n",
       "</style>\n",
       "<table border=\"1\" class=\"dataframe\">\n",
       "  <thead>\n",
       "    <tr style=\"text-align: right;\">\n",
       "      <th></th>\n",
       "      <th>spotify_track_uri</th>\n",
       "      <th>ts</th>\n",
       "      <th>platform</th>\n",
       "      <th>ms_played</th>\n",
       "      <th>track_name</th>\n",
       "      <th>artist_name</th>\n",
       "      <th>album_name</th>\n",
       "      <th>reason_start</th>\n",
       "      <th>reason_end</th>\n",
       "      <th>shuffle</th>\n",
       "      <th>skipped</th>\n",
       "      <th>played_second</th>\n",
       "      <th>played_minutes</th>\n",
       "      <th>track_name_</th>\n",
       "      <th>artist_name_</th>\n",
       "      <th>album_name_</th>\n",
       "      <th>reason_start_</th>\n",
       "      <th>reason_end_</th>\n",
       "    </tr>\n",
       "  </thead>\n",
       "  <tbody>\n",
       "    <tr>\n",
       "      <th>0</th>\n",
       "      <td>2J3n32GeLmMjwuAzyhcSNe</td>\n",
       "      <td>2013-07-08 02:44:34</td>\n",
       "      <td>web player</td>\n",
       "      <td>3185</td>\n",
       "      <td>Say It, Just Say It</td>\n",
       "      <td>The Mowgli's</td>\n",
       "      <td>Waiting For The Dawn</td>\n",
       "      <td>autoplay</td>\n",
       "      <td>clickrow</td>\n",
       "      <td>False</td>\n",
       "      <td>False</td>\n",
       "      <td>3.185</td>\n",
       "      <td>53.083333</td>\n",
       "      <td>say it, just say it</td>\n",
       "      <td>the mowgli's</td>\n",
       "      <td>waiting for the dawn</td>\n",
       "      <td>autoplay</td>\n",
       "      <td>clickrow</td>\n",
       "    </tr>\n",
       "  </tbody>\n",
       "</table>\n",
       "</div>"
      ],
      "text/plain": [
       "        spotify_track_uri                  ts    platform  ms_played  \\\n",
       "0  2J3n32GeLmMjwuAzyhcSNe 2013-07-08 02:44:34  web player       3185   \n",
       "\n",
       "            track_name   artist_name            album_name reason_start  \\\n",
       "0  Say It, Just Say It  The Mowgli's  Waiting For The Dawn     autoplay   \n",
       "\n",
       "  reason_end  shuffle  skipped  played_second  played_minutes  \\\n",
       "0   clickrow    False    False          3.185       53.083333   \n",
       "\n",
       "           track_name_  artist_name_           album_name_ reason_start_  \\\n",
       "0  say it, just say it  the mowgli's  waiting for the dawn      autoplay   \n",
       "\n",
       "  reason_end_  \n",
       "0    clickrow  "
      ]
     },
     "execution_count": 20,
     "metadata": {},
     "output_type": "execute_result"
    }
   ],
   "source": [
    "df_copy.head(1)"
   ]
  },
  {
   "cell_type": "code",
   "execution_count": 21,
   "id": "25ad1c99",
   "metadata": {},
   "outputs": [],
   "source": [
    "# removing old columns\n",
    "df_copy = df_copy.drop(columns=['track_name', 'artist_name', 'album_name', 'reason_start', 'reason_end'])"
   ]
  },
  {
   "cell_type": "code",
   "execution_count": 22,
   "id": "443ca02f",
   "metadata": {},
   "outputs": [
    {
     "data": {
      "text/html": [
       "<div>\n",
       "<style scoped>\n",
       "    .dataframe tbody tr th:only-of-type {\n",
       "        vertical-align: middle;\n",
       "    }\n",
       "\n",
       "    .dataframe tbody tr th {\n",
       "        vertical-align: top;\n",
       "    }\n",
       "\n",
       "    .dataframe thead th {\n",
       "        text-align: right;\n",
       "    }\n",
       "</style>\n",
       "<table border=\"1\" class=\"dataframe\">\n",
       "  <thead>\n",
       "    <tr style=\"text-align: right;\">\n",
       "      <th></th>\n",
       "      <th>spotify_track_uri</th>\n",
       "      <th>ts</th>\n",
       "      <th>platform</th>\n",
       "      <th>ms_played</th>\n",
       "      <th>shuffle</th>\n",
       "      <th>skipped</th>\n",
       "      <th>played_second</th>\n",
       "      <th>played_minutes</th>\n",
       "      <th>track_name_</th>\n",
       "      <th>artist_name_</th>\n",
       "      <th>album_name_</th>\n",
       "      <th>reason_start_</th>\n",
       "      <th>reason_end_</th>\n",
       "    </tr>\n",
       "  </thead>\n",
       "  <tbody>\n",
       "    <tr>\n",
       "      <th>0</th>\n",
       "      <td>2J3n32GeLmMjwuAzyhcSNe</td>\n",
       "      <td>2013-07-08 02:44:34</td>\n",
       "      <td>web player</td>\n",
       "      <td>3185</td>\n",
       "      <td>False</td>\n",
       "      <td>False</td>\n",
       "      <td>3.185</td>\n",
       "      <td>53.083333</td>\n",
       "      <td>say it, just say it</td>\n",
       "      <td>the mowgli's</td>\n",
       "      <td>waiting for the dawn</td>\n",
       "      <td>autoplay</td>\n",
       "      <td>clickrow</td>\n",
       "    </tr>\n",
       "    <tr>\n",
       "      <th>1</th>\n",
       "      <td>1oHxIPqJyvAYHy0PVrDU98</td>\n",
       "      <td>2013-07-08 02:45:37</td>\n",
       "      <td>web player</td>\n",
       "      <td>61865</td>\n",
       "      <td>False</td>\n",
       "      <td>False</td>\n",
       "      <td>61.865</td>\n",
       "      <td>1031.083333</td>\n",
       "      <td>drinking from the bottle (feat. tinie tempah)</td>\n",
       "      <td>calvin harris</td>\n",
       "      <td>18 months</td>\n",
       "      <td>clickrow</td>\n",
       "      <td>clickrow</td>\n",
       "    </tr>\n",
       "    <tr>\n",
       "      <th>2</th>\n",
       "      <td>487OPlneJNni3NWC8SYqhW</td>\n",
       "      <td>2013-07-08 02:50:24</td>\n",
       "      <td>web player</td>\n",
       "      <td>285386</td>\n",
       "      <td>False</td>\n",
       "      <td>False</td>\n",
       "      <td>285.386</td>\n",
       "      <td>4756.433333</td>\n",
       "      <td>born to die</td>\n",
       "      <td>lana del rey</td>\n",
       "      <td>born to die - the paradise edition</td>\n",
       "      <td>clickrow</td>\n",
       "      <td>unknown</td>\n",
       "    </tr>\n",
       "    <tr>\n",
       "      <th>3</th>\n",
       "      <td>5IyblF777jLZj1vGHG2UD3</td>\n",
       "      <td>2013-07-08 02:52:40</td>\n",
       "      <td>web player</td>\n",
       "      <td>134022</td>\n",
       "      <td>False</td>\n",
       "      <td>False</td>\n",
       "      <td>134.022</td>\n",
       "      <td>2233.700000</td>\n",
       "      <td>off to the races</td>\n",
       "      <td>lana del rey</td>\n",
       "      <td>born to die - the paradise edition</td>\n",
       "      <td>trackdone</td>\n",
       "      <td>clickrow</td>\n",
       "    </tr>\n",
       "    <tr>\n",
       "      <th>4</th>\n",
       "      <td>0GgAAB0ZMllFhbNc3mAodO</td>\n",
       "      <td>2013-07-08 03:17:52</td>\n",
       "      <td>web player</td>\n",
       "      <td>0</td>\n",
       "      <td>False</td>\n",
       "      <td>False</td>\n",
       "      <td>0.000</td>\n",
       "      <td>0.000000</td>\n",
       "      <td>half mast</td>\n",
       "      <td>empire of the sun</td>\n",
       "      <td>walking on a dream</td>\n",
       "      <td>clickrow</td>\n",
       "      <td>nextbtn</td>\n",
       "    </tr>\n",
       "  </tbody>\n",
       "</table>\n",
       "</div>"
      ],
      "text/plain": [
       "        spotify_track_uri                  ts    platform  ms_played  shuffle  \\\n",
       "0  2J3n32GeLmMjwuAzyhcSNe 2013-07-08 02:44:34  web player       3185    False   \n",
       "1  1oHxIPqJyvAYHy0PVrDU98 2013-07-08 02:45:37  web player      61865    False   \n",
       "2  487OPlneJNni3NWC8SYqhW 2013-07-08 02:50:24  web player     285386    False   \n",
       "3  5IyblF777jLZj1vGHG2UD3 2013-07-08 02:52:40  web player     134022    False   \n",
       "4  0GgAAB0ZMllFhbNc3mAodO 2013-07-08 03:17:52  web player          0    False   \n",
       "\n",
       "   skipped  played_second  played_minutes  \\\n",
       "0    False          3.185       53.083333   \n",
       "1    False         61.865     1031.083333   \n",
       "2    False        285.386     4756.433333   \n",
       "3    False        134.022     2233.700000   \n",
       "4    False          0.000        0.000000   \n",
       "\n",
       "                                     track_name_       artist_name_  \\\n",
       "0                            say it, just say it       the mowgli's   \n",
       "1  drinking from the bottle (feat. tinie tempah)      calvin harris   \n",
       "2                                    born to die       lana del rey   \n",
       "3                               off to the races       lana del rey   \n",
       "4                                      half mast  empire of the sun   \n",
       "\n",
       "                          album_name_ reason_start_ reason_end_  \n",
       "0                waiting for the dawn      autoplay    clickrow  \n",
       "1                           18 months      clickrow    clickrow  \n",
       "2  born to die - the paradise edition      clickrow     unknown  \n",
       "3  born to die - the paradise edition     trackdone    clickrow  \n",
       "4                  walking on a dream      clickrow     nextbtn  "
      ]
     },
     "execution_count": 22,
     "metadata": {},
     "output_type": "execute_result"
    }
   ],
   "source": [
    "df_copy.head()"
   ]
  },
  {
   "cell_type": "code",
   "execution_count": 23,
   "id": "e3c385f7",
   "metadata": {},
   "outputs": [],
   "source": [
    "df_copy = df_copy.sort_values('ts').reset_index(drop=True)\n",
    "df_copy['date'] = df_copy['ts'].dt.date\n",
    "df_copy['year'] = df_copy['ts'].dt.year\n",
    "df_copy['month'] = df_copy['ts'].dt.month\n",
    "df_copy['month_name'] = df_copy['ts'].dt.month_name()\n",
    "df_copy['day'] = df_copy['ts'].dt.day\n",
    "df_copy['hour'] = df_copy['ts'].dt.hour\n",
    "df_copy['weekday'] = df_copy['ts'].dt.weekday\n",
    "df_copy['weekday_name'] = df_copy['ts'].dt.day_name()\n",
    "# ISO week (pandas >= 1.1)\n",
    "df_copy['weekofyear'] = df_copy['ts'].dt.isocalendar().week"
   ]
  },
  {
   "cell_type": "code",
   "execution_count": 24,
   "id": "d6b4d3d2",
   "metadata": {},
   "outputs": [
    {
     "name": "stdout",
     "output_type": "stream",
     "text": [
      "<class 'pandas.core.frame.DataFrame'>\n",
      "RangeIndex: 148463 entries, 0 to 148462\n",
      "Data columns (total 22 columns):\n",
      " #   Column             Non-Null Count   Dtype         \n",
      "---  ------             --------------   -----         \n",
      " 0   spotify_track_uri  148463 non-null  object        \n",
      " 1   ts                 148463 non-null  datetime64[ns]\n",
      " 2   platform           148463 non-null  object        \n",
      " 3   ms_played          148463 non-null  int64         \n",
      " 4   shuffle            148463 non-null  bool          \n",
      " 5   skipped            148463 non-null  bool          \n",
      " 6   played_second      148463 non-null  float64       \n",
      " 7   played_minutes     148463 non-null  float64       \n",
      " 8   track_name_        148463 non-null  object        \n",
      " 9   artist_name_       148463 non-null  object        \n",
      " 10  album_name_        148463 non-null  object        \n",
      " 11  reason_start_      148463 non-null  object        \n",
      " 12  reason_end_        148463 non-null  object        \n",
      " 13  date               148463 non-null  object        \n",
      " 14  year               148463 non-null  int32         \n",
      " 15  month              148463 non-null  int32         \n",
      " 16  month_name         148463 non-null  object        \n",
      " 17  day                148463 non-null  int32         \n",
      " 18  hour               148463 non-null  int32         \n",
      " 19  weekday            148463 non-null  int32         \n",
      " 20  weekday_name       148463 non-null  object        \n",
      " 21  weekofyear         148463 non-null  UInt32        \n",
      "dtypes: UInt32(1), bool(2), datetime64[ns](1), float64(2), int32(5), int64(1), object(10)\n",
      "memory usage: 19.7+ MB\n"
     ]
    }
   ],
   "source": [
    "df_copy.info()"
   ]
  },
  {
   "cell_type": "code",
   "execution_count": 25,
   "id": "3bb8fdfc",
   "metadata": {},
   "outputs": [
    {
     "data": {
      "text/html": [
       "<div>\n",
       "<style scoped>\n",
       "    .dataframe tbody tr th:only-of-type {\n",
       "        vertical-align: middle;\n",
       "    }\n",
       "\n",
       "    .dataframe tbody tr th {\n",
       "        vertical-align: top;\n",
       "    }\n",
       "\n",
       "    .dataframe thead th {\n",
       "        text-align: right;\n",
       "    }\n",
       "</style>\n",
       "<table border=\"1\" class=\"dataframe\">\n",
       "  <thead>\n",
       "    <tr style=\"text-align: right;\">\n",
       "      <th></th>\n",
       "      <th>spotify_track_uri</th>\n",
       "      <th>ts</th>\n",
       "      <th>platform</th>\n",
       "      <th>ms_played</th>\n",
       "      <th>shuffle</th>\n",
       "      <th>skipped</th>\n",
       "      <th>played_second</th>\n",
       "      <th>played_minutes</th>\n",
       "      <th>track_name_</th>\n",
       "      <th>artist_name_</th>\n",
       "      <th>...</th>\n",
       "      <th>reason_end_</th>\n",
       "      <th>date</th>\n",
       "      <th>year</th>\n",
       "      <th>month</th>\n",
       "      <th>month_name</th>\n",
       "      <th>day</th>\n",
       "      <th>hour</th>\n",
       "      <th>weekday</th>\n",
       "      <th>weekday_name</th>\n",
       "      <th>weekofyear</th>\n",
       "    </tr>\n",
       "  </thead>\n",
       "  <tbody>\n",
       "    <tr>\n",
       "      <th>0</th>\n",
       "      <td>2J3n32GeLmMjwuAzyhcSNe</td>\n",
       "      <td>2013-07-08 02:44:34</td>\n",
       "      <td>web player</td>\n",
       "      <td>3185</td>\n",
       "      <td>False</td>\n",
       "      <td>False</td>\n",
       "      <td>3.185</td>\n",
       "      <td>53.083333</td>\n",
       "      <td>say it, just say it</td>\n",
       "      <td>the mowgli's</td>\n",
       "      <td>...</td>\n",
       "      <td>clickrow</td>\n",
       "      <td>2013-07-08</td>\n",
       "      <td>2013</td>\n",
       "      <td>7</td>\n",
       "      <td>July</td>\n",
       "      <td>8</td>\n",
       "      <td>2</td>\n",
       "      <td>0</td>\n",
       "      <td>Monday</td>\n",
       "      <td>28</td>\n",
       "    </tr>\n",
       "  </tbody>\n",
       "</table>\n",
       "<p>1 rows × 22 columns</p>\n",
       "</div>"
      ],
      "text/plain": [
       "        spotify_track_uri                  ts    platform  ms_played  shuffle  \\\n",
       "0  2J3n32GeLmMjwuAzyhcSNe 2013-07-08 02:44:34  web player       3185    False   \n",
       "\n",
       "   skipped  played_second  played_minutes          track_name_  artist_name_  \\\n",
       "0    False          3.185       53.083333  say it, just say it  the mowgli's   \n",
       "\n",
       "   ... reason_end_        date  year month  month_name  day hour  weekday  \\\n",
       "0  ...    clickrow  2013-07-08  2013     7        July    8    2        0   \n",
       "\n",
       "   weekday_name  weekofyear  \n",
       "0        Monday          28  \n",
       "\n",
       "[1 rows x 22 columns]"
      ]
     },
     "execution_count": 25,
     "metadata": {},
     "output_type": "execute_result"
    }
   ],
   "source": [
    "df_copy.head(1)"
   ]
  },
  {
   "cell_type": "code",
   "execution_count": 26,
   "id": "3d4babfb",
   "metadata": {},
   "outputs": [],
   "source": [
    "df_copy['prev_ts'] = df_copy['ts'].shift(1)\n",
    "df_copy['gap_minutes'] = (df_copy['ts'] - df_copy['prev_ts']).dt.total_seconds() / 60.0\n",
    "df_copy['new_session'] = (df_copy['gap_minutes'] > 30) | (df_copy['gap_minutes'].isna())\n",
    "df_copy['session_id'] = df_copy['new_session'].cumsum().astype(int)"
   ]
  },
  {
   "cell_type": "code",
   "execution_count": 27,
   "id": "d1a4489c",
   "metadata": {},
   "outputs": [],
   "source": [
    "# top_artist = df['artist_name_norm'].value_counts().head(10)\n",
    "# print(f'Top artist\\n{top_artist}')"
   ]
  },
  {
   "cell_type": "code",
   "execution_count": 28,
   "id": "95b18346",
   "metadata": {},
   "outputs": [
    {
     "data": {
      "image/png": "[encoded data removed]",
      "text/plain": [
       "<Figure size 1200x500 with 2 Axes>"
      ]
     },
     "metadata": {},
     "output_type": "display_data"
    }
   ],
   "source": [
    "import matplotlib.pyplot as plt\n",
    "\n",
    "top_artists = df_copy['artist_name_'].value_counts().head(10)\n",
    "top_tracks = df_copy['track_name_'].value_counts().head(10)\n",
    "# top_tracks\n",
    "# top_artists\n",
    "\n",
    "\n",
    "plt.figure(figsize=(12, 5))\n",
    "\n",
    "# Top 10 Artists\n",
    "plt.subplot(1, 2, 1)\n",
    "top_artists.plot(kind='bar')\n",
    "plt.title('Top 10 Artists')\n",
    "plt.ylabel('Play Count')\n",
    "plt.xticks(rotation=45)\n",
    "\n",
    "# Top 10 Tracks\n",
    "plt.subplot(1, 2, 2)\n",
    "top_tracks.plot(kind='bar')\n",
    "plt.title('Top 10 Tracks')\n",
    "plt.ylabel('Play Count')\n",
    "plt.xticks(rotation=45)\n",
    "\n",
    "plt.tight_layout()\n",
    "plt.show()"
   ]
  },
  {
   "cell_type": "code",
   "execution_count": 29,
   "id": "5333c861",
   "metadata": {},
   "outputs": [],
   "source": [
    "# ⬆️ Explanation of Above chart ⬆️\n",
    "\n",
    "# I checked which artists and tracks are played the most. The Beatles had the highest plays, followed by The Killers and John Mayer. Other artists like Bob Dylan, Led Zeppelin, and Radiohead also had a strong presence.\n",
    "\n",
    "# For tracks, the top songs also matched the same pattern where a few popular tracks were played again and again. This shows that users mostly listen to classic rock and legendary artists, and they repeat their favorite tracks many times."
   ]
  },
  {
   "cell_type": "code",
   "execution_count": 30,
   "id": "720bed11",
   "metadata": {},
   "outputs": [
    {
     "data": {
      "text/html": [
       "<div>\n",
       "<style scoped>\n",
       "    .dataframe tbody tr th:only-of-type {\n",
       "        vertical-align: middle;\n",
       "    }\n",
       "\n",
       "    .dataframe tbody tr th {\n",
       "        vertical-align: top;\n",
       "    }\n",
       "\n",
       "    .dataframe thead th {\n",
       "        text-align: right;\n",
       "    }\n",
       "</style>\n",
       "<table border=\"1\" class=\"dataframe\">\n",
       "  <thead>\n",
       "    <tr style=\"text-align: right;\">\n",
       "      <th></th>\n",
       "      <th>spotify_track_uri</th>\n",
       "      <th>ts</th>\n",
       "      <th>platform</th>\n",
       "      <th>ms_played</th>\n",
       "      <th>shuffle</th>\n",
       "      <th>skipped</th>\n",
       "      <th>played_second</th>\n",
       "      <th>played_minutes</th>\n",
       "      <th>track_name_</th>\n",
       "      <th>artist_name_</th>\n",
       "      <th>...</th>\n",
       "      <th>month_name</th>\n",
       "      <th>day</th>\n",
       "      <th>hour</th>\n",
       "      <th>weekday</th>\n",
       "      <th>weekday_name</th>\n",
       "      <th>weekofyear</th>\n",
       "      <th>prev_ts</th>\n",
       "      <th>gap_minutes</th>\n",
       "      <th>new_session</th>\n",
       "      <th>session_id</th>\n",
       "    </tr>\n",
       "  </thead>\n",
       "  <tbody>\n",
       "    <tr>\n",
       "      <th>0</th>\n",
       "      <td>2J3n32GeLmMjwuAzyhcSNe</td>\n",
       "      <td>2013-07-08 02:44:34</td>\n",
       "      <td>web player</td>\n",
       "      <td>3185</td>\n",
       "      <td>False</td>\n",
       "      <td>False</td>\n",
       "      <td>3.185</td>\n",
       "      <td>53.083333</td>\n",
       "      <td>say it, just say it</td>\n",
       "      <td>the mowgli's</td>\n",
       "      <td>...</td>\n",
       "      <td>July</td>\n",
       "      <td>8</td>\n",
       "      <td>2</td>\n",
       "      <td>0</td>\n",
       "      <td>Monday</td>\n",
       "      <td>28</td>\n",
       "      <td>NaT</td>\n",
       "      <td>NaN</td>\n",
       "      <td>True</td>\n",
       "      <td>1</td>\n",
       "    </tr>\n",
       "  </tbody>\n",
       "</table>\n",
       "<p>1 rows × 26 columns</p>\n",
       "</div>"
      ],
      "text/plain": [
       "        spotify_track_uri                  ts    platform  ms_played  shuffle  \\\n",
       "0  2J3n32GeLmMjwuAzyhcSNe 2013-07-08 02:44:34  web player       3185    False   \n",
       "\n",
       "   skipped  played_second  played_minutes          track_name_  artist_name_  \\\n",
       "0    False          3.185       53.083333  say it, just say it  the mowgli's   \n",
       "\n",
       "   ... month_name day hour weekday  weekday_name  weekofyear prev_ts  \\\n",
       "0  ...       July   8    2       0        Monday          28     NaT   \n",
       "\n",
       "   gap_minutes  new_session  session_id  \n",
       "0          NaN         True           1  \n",
       "\n",
       "[1 rows x 26 columns]"
      ]
     },
     "execution_count": 30,
     "metadata": {},
     "output_type": "execute_result"
    }
   ],
   "source": [
    "df_copy.head(1)"
   ]
  },
  {
   "cell_type": "code",
   "execution_count": 31,
   "id": "f3f556fc",
   "metadata": {},
   "outputs": [
    {
     "name": "stdout",
     "output_type": "stream",
     "text": [
      "Top 5 skipped tracks:\n",
      " track_name_\n",
      "paraíso              29\n",
      "photograph           22\n",
      "superheroes          21\n",
      "switzerland          20\n",
      "what do you mean?    20\n",
      "dtype: int64\n",
      "\n",
      "Top 5 skipped artists:\n",
      " artist_name_\n",
      "the beatles           388\n",
      "the killers           196\n",
      "bob dylan             161\n",
      "john mayer            150\n",
      "the rolling stones    125\n",
      "dtype: int64\n",
      "\n",
      "Skip rate by platform:\n",
      " platform\n",
      "windows           0.140745\n",
      "iOS               0.066854\n",
      "mac               0.061224\n",
      "android           0.051912\n",
      "cast to device    0.000000\n",
      "web player        0.000000\n",
      "Name: skipped, dtype: float64\n"
     ]
    }
   ],
   "source": [
    "# Top 5 skipped tracks (immediately skipped)\n",
    "top_skipped_tracks = (df_copy[df_copy['skipped']].groupby('track_name_').size().sort_values(ascending=False).head(5))\n",
    "print(\"Top 5 skipped tracks:\\n\", top_skipped_tracks)\n",
    "\n",
    "# Top 5 skipped artists\n",
    "top_skipped_artists = (df_copy[df_copy['skipped']].groupby('artist_name_').size().sort_values(ascending=False).head(5))\n",
    "print(\"\\nTop 5 skipped artists:\\n\", top_skipped_artists)\n",
    "\n",
    "# Skip patterns by platform\n",
    "skip_platform = (df_copy.groupby('platform')['skipped'].mean().sort_values(ascending=False))\n",
    "print(\"\\nSkip rate by platform:\\n\", skip_platform)\n"
   ]
  },
  {
   "cell_type": "code",
   "execution_count": 32,
   "id": "16140d58",
   "metadata": {},
   "outputs": [],
   "source": [
    "# ⬆️ Explanation of Above Output ⬆️\n",
    "\n",
    "# I checked which tracks and artists are skipped the most. Interestingly, some of the most played artists like The Beatles and The Killers also appear in the top skipped list. This shows that while users try songs from popular artists, not all songs are equally liked, and some are skipped immediately.\n",
    "\n",
    "# Platform also affects skipping: Windows users skip more often, while web player and cast devices have almost no skips. This insight can help Spotify improve song recommendations and reduce unnecessary skips."
   ]
  },
  {
   "cell_type": "code",
   "execution_count": 33,
   "id": "23fd8a63",
   "metadata": {},
   "outputs": [
    {
     "name": "stdout",
     "output_type": "stream",
     "text": [
      "\n",
      "Skip rate by hour of day:\n",
      " hour\n",
      "2     0.090273\n",
      "7     0.089610\n",
      "1     0.088763\n",
      "8     0.080505\n",
      "22    0.068850\n",
      "0     0.068037\n",
      "21    0.063179\n",
      "23    0.058266\n",
      "4     0.052092\n",
      "3     0.049238\n",
      "20    0.045573\n",
      "5     0.045556\n",
      "6     0.041706\n",
      "9     0.037344\n",
      "10    0.036454\n",
      "15    0.030842\n",
      "19    0.029543\n",
      "17    0.028438\n",
      "16    0.024516\n",
      "18    0.022235\n",
      "14    0.020641\n",
      "13    0.020171\n",
      "12    0.011050\n",
      "11    0.002217\n",
      "Name: skipped, dtype: float64\n"
     ]
    }
   ],
   "source": [
    "# Skip patterns by hour of day\n",
    "skip_hour = (df_copy.groupby('hour')['skipped'].mean()).sort_values(ascending=False)\n",
    "print(\"\\nSkip rate by hour of day:\\n\", skip_hour)"
   ]
  },
  {
   "cell_type": "code",
   "execution_count": 34,
   "id": "a2028255",
   "metadata": {},
   "outputs": [
    {
     "name": "stdout",
     "output_type": "stream",
     "text": [
      "\n",
      "Skip rate by weekday:\n",
      " weekday_name\n",
      "Friday       0.062490\n",
      "Monday       0.066894\n",
      "Saturday     0.068572\n",
      "Sunday       0.054325\n",
      "Thursday     0.035171\n",
      "Tuesday      0.043927\n",
      "Wednesday    0.034962\n",
      "Name: skipped, dtype: float64\n"
     ]
    }
   ],
   "source": [
    "# Skip patterns by weekday\n",
    "skip_weekday = (df_copy.groupby('weekday_name')['skipped'].mean())\n",
    "print(\"\\nSkip rate by weekday:\\n\", skip_weekday)"
   ]
  },
  {
   "cell_type": "code",
   "execution_count": 35,
   "id": "ea0dc8f3",
   "metadata": {},
   "outputs": [
    {
     "data": {
      "text/plain": [
       "weekday_name\n",
       "Friday       52,488,064\n",
       "Wednesday    48,395,645\n",
       "Thursday     46,947,276\n",
       "Tuesday      45,644,810\n",
       "Monday       45,263,232\n",
       "Sunday       39,144,598\n",
       "Saturday     38,932,579\n",
       "Name: played_minutes, dtype: object"
      ]
     },
     "execution_count": 35,
     "metadata": {},
     "output_type": "execute_result"
    }
   ],
   "source": [
    "user_listening_trend = df_copy.groupby('weekday_name')['played_minutes'].sum().sort_values(ascending=False)\n",
    "user_listening_trend = user_listening_trend.map('{:,.0f}'.format)\n",
    "user_listening_trend"
   ]
  },
  {
   "cell_type": "code",
   "execution_count": 36,
   "id": "649c677a",
   "metadata": {},
   "outputs": [
    {
     "name": "stdout",
     "output_type": "stream",
     "text": [
      "User listens to most songs at hour: 18\n",
      "hour\n",
      "18    2.248885e+07\n",
      "17    2.248420e+07\n",
      "0     2.176764e+07\n",
      "20    2.144706e+07\n",
      "19    2.088523e+07\n",
      "Name: played_minutes, dtype: float64\n"
     ]
    }
   ],
   "source": [
    "# Group by hour and sum played_minutes to find peak listening time\n",
    "listening_by_hour = df_copy.groupby('hour')['played_minutes'].sum()\n",
    "peak_hour = listening_by_hour.idxmax()\n",
    "print(f\"User listens to most songs at hour: {peak_hour}\")\n",
    "print(listening_by_hour.sort_values(ascending=False).head(5))"
   ]
  },
  {
   "cell_type": "code",
   "execution_count": 37,
   "id": "ed1f3a92",
   "metadata": {},
   "outputs": [
    {
     "data": {
      "image/png": "[encoded data removed]",
      "text/plain": [
       "<Figure size 1200x500 with 2 Axes>"
      ]
     },
     "metadata": {},
     "output_type": "display_data"
    }
   ],
   "source": [
    "import matplotlib.pyplot as plt\n",
    "\n",
    "top_artists = df_copy['artist_name_'].value_counts().head(10)\n",
    "top_tracks = df_copy['track_name_'].value_counts().head(10)\n",
    "\n",
    "\n",
    "plt.figure(figsize=(12, 5))\n",
    "\n",
    "# Top 10 Artists\n",
    "plt.subplot(1, 2, 1)\n",
    "top_artists.plot(kind='bar')\n",
    "plt.title('Top 10 Artists')\n",
    "plt.ylabel('Play Count')\n",
    "plt.xticks(rotation=45)\n",
    "\n",
    "# Top 10 Tracks\n",
    "plt.subplot(1, 2, 2)\n",
    "top_tracks.plot(kind='bar')\n",
    "plt.title('Top 10 Tracks')\n",
    "plt.ylabel('Play Count')\n",
    "plt.xticks(rotation=45)\n",
    "\n",
    "plt.tight_layout()\n",
    "plt.show()"
   ]
  },
  {
   "cell_type": "code",
   "execution_count": 38,
   "id": "3b9e1512",
   "metadata": {},
   "outputs": [
    {
     "data": {
      "image/png": "[encoded data removed]",
      "text/plain": [
       "<Figure size 1200x500 with 2 Axes>"
      ]
     },
     "metadata": {},
     "output_type": "display_data"
    }
   ],
   "source": [
    "user_listening_trend = df_copy.groupby('weekday_name')['played_minutes'].sum().sort_values(ascending=False)\n",
    "# user_listening_trend = user_listening_trend.map('{:,.0f}'.format)\n",
    "user_listening_trend_avg = df_copy.groupby('weekday_name')['played_minutes'].mean().sort_values(ascending=False)\n",
    "user_listening_trend\n",
    "\n",
    "plt.figure(figsize=(12, 5))\n",
    "\n",
    "# Total listening minutes by weekday\n",
    "plt.subplot(1, 2, 1)\n",
    "user_listening_trend.plot(kind='bar')\n",
    "plt.title('Total listening_by_minutes')\n",
    "plt.xlabel('Weekdays')\n",
    "plt.ylabel('Play Minutes')\n",
    "plt.xticks(rotation=45)\n",
    "\n",
    "# Average listening minutes by weekday\n",
    "plt.subplot(1, 2, 2)\n",
    "user_listening_trend_avg.plot(kind='bar')\n",
    "plt.title('Total listening_by_minutes (Avg)')\n",
    "plt.xlabel('Weekdays')\n",
    "plt.ylabel('Play Minutes')\n",
    "plt.xticks(rotation=45)\n",
    "\n",
    "plt.tight_layout()\n",
    "plt.show()\n"
   ]
  },
  {
   "cell_type": "code",
   "execution_count": 39,
   "id": "5d26aa14",
   "metadata": {},
   "outputs": [
    {
     "data": {
      "image/png": "[encoded data removed]",
      "text/plain": [
       "<Figure size 600x600 with 1 Axes>"
      ]
     },
     "metadata": {},
     "output_type": "display_data"
    }
   ],
   "source": [
    "# platform usage by user\n",
    "\n",
    "platform_usage = df_copy.groupby('platform')['played_minutes'].sum().sort_values(ascending=True)\n",
    "\n",
    "platform_usage.plot(kind='pie', autopct='%1.1f%%', figsize=(6,6), colors=['skyblue','orange','green','pink'])\n",
    "plt.title('Platform Usage Share')\n",
    "plt.ylabel('')\n",
    "plt.show()"
   ]
  },
  {
   "cell_type": "code",
   "execution_count": 40,
   "id": "3f14e26d",
   "metadata": {},
   "outputs": [
    {
     "data": {
      "text/html": [
       "<div>\n",
       "<style scoped>\n",
       "    .dataframe tbody tr th:only-of-type {\n",
       "        vertical-align: middle;\n",
       "    }\n",
       "\n",
       "    .dataframe tbody tr th {\n",
       "        vertical-align: top;\n",
       "    }\n",
       "\n",
       "    .dataframe thead th {\n",
       "        text-align: right;\n",
       "    }\n",
       "</style>\n",
       "<table border=\"1\" class=\"dataframe\">\n",
       "  <thead>\n",
       "    <tr style=\"text-align: right;\">\n",
       "      <th></th>\n",
       "      <th>spotify_track_uri</th>\n",
       "      <th>ts</th>\n",
       "      <th>platform</th>\n",
       "      <th>ms_played</th>\n",
       "      <th>shuffle</th>\n",
       "      <th>skipped</th>\n",
       "      <th>played_second</th>\n",
       "      <th>played_minutes</th>\n",
       "      <th>track_name_</th>\n",
       "      <th>artist_name_</th>\n",
       "      <th>...</th>\n",
       "      <th>month_name</th>\n",
       "      <th>day</th>\n",
       "      <th>hour</th>\n",
       "      <th>weekday</th>\n",
       "      <th>weekday_name</th>\n",
       "      <th>weekofyear</th>\n",
       "      <th>prev_ts</th>\n",
       "      <th>gap_minutes</th>\n",
       "      <th>new_session</th>\n",
       "      <th>session_id</th>\n",
       "    </tr>\n",
       "  </thead>\n",
       "  <tbody>\n",
       "    <tr>\n",
       "      <th>0</th>\n",
       "      <td>2J3n32GeLmMjwuAzyhcSNe</td>\n",
       "      <td>2013-07-08 02:44:34</td>\n",
       "      <td>web player</td>\n",
       "      <td>3185</td>\n",
       "      <td>False</td>\n",
       "      <td>False</td>\n",
       "      <td>3.185</td>\n",
       "      <td>53.083333</td>\n",
       "      <td>say it, just say it</td>\n",
       "      <td>the mowgli's</td>\n",
       "      <td>...</td>\n",
       "      <td>July</td>\n",
       "      <td>8</td>\n",
       "      <td>2</td>\n",
       "      <td>0</td>\n",
       "      <td>Monday</td>\n",
       "      <td>28</td>\n",
       "      <td>NaT</td>\n",
       "      <td>NaN</td>\n",
       "      <td>True</td>\n",
       "      <td>1</td>\n",
       "    </tr>\n",
       "  </tbody>\n",
       "</table>\n",
       "<p>1 rows × 26 columns</p>\n",
       "</div>"
      ],
      "text/plain": [
       "        spotify_track_uri                  ts    platform  ms_played  shuffle  \\\n",
       "0  2J3n32GeLmMjwuAzyhcSNe 2013-07-08 02:44:34  web player       3185    False   \n",
       "\n",
       "   skipped  played_second  played_minutes          track_name_  artist_name_  \\\n",
       "0    False          3.185       53.083333  say it, just say it  the mowgli's   \n",
       "\n",
       "   ... month_name day hour weekday  weekday_name  weekofyear prev_ts  \\\n",
       "0  ...       July   8    2       0        Monday          28     NaT   \n",
       "\n",
       "   gap_minutes  new_session  session_id  \n",
       "0          NaN         True           1  \n",
       "\n",
       "[1 rows x 26 columns]"
      ]
     },
     "execution_count": 40,
     "metadata": {},
     "output_type": "execute_result"
    }
   ],
   "source": [
    "df_copy.head(1)"
   ]
  }
 ],
 "metadata": {
  "kernelspec": {
   "display_name": "Python 3",
   "language": "python",
   "name": "python3"
  },
  "language_info": {
   "codemirror_mode": {
    "name": "ipython",
    "version": 3
   },
   "file_extension": ".py",
   "mimetype": "text/x-python",
   "name": "python",
   "nbconvert_exporter": "python",
   "pygments_lexer": "ipython3",
   "version": "3.12.6"
  }
 },
 "nbformat": 4,
 "nbformat_minor": 5
}
